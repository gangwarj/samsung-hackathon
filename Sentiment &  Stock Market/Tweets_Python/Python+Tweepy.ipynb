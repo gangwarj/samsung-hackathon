{
 "cells": [
  {
   "cell_type": "markdown",
   "metadata": {},
   "source": [
    "PWC Stock price sentiment analysis using Twitter API\n",
    "----------\n",
    "\n",
    "Sentiment in the social media (facebook, twitter, instagram, linkedin etc.) plays a big role in managing the perception of an organisation. This sentiment can have an impact in the stock price of listed companies. Is there a statistically significant correlation (or even a lagged correlation) between the social media sentiment and the stock price. This will give the corporate communications department a very important tool to monitor the leading indicator (social media sentiment) in order to estimate the lagging indicator (stock price)"
   ]
  },
  {
   "cell_type": "code",
   "execution_count": 2,
   "metadata": {
    "collapsed": true
   },
   "outputs": [],
   "source": [
    "# Imports\n",
    "import re\n",
    "import tweepy\n",
    "from tweepy import OAuthHandler\n",
    "from textblob import TextBlob"
   ]
  },
  {
   "cell_type": "code",
   "execution_count": 3,
   "metadata": {
    "collapsed": true
   },
   "outputs": [],
   "source": [
    "# Twitter Client Class    \n",
    "class TwitterClient(object):\n",
    "    \n",
    "    def __init__(self):\n",
    "        # keys and tokens from the Twitter Dev Console\n",
    "        consumer_key = 'Ve8tKh7aP2CtGhFUtV26W7Zr8'\n",
    "        consumer_secret = 'P7L9hsifW5cRT4Yg9eJHzDtmi1RZ42ENSWwcKLp7SkegoG4TYT'\n",
    "        access_token = '2918675084-KoiDatN9UJnvOKJxv4E2eFXmbh94GTiydawSf9w'\n",
    "        access_token_secret = 'xpcA5NEFyGZ6WQZ5leXpBqHJDS8DlBBseQGqJpJQJU6Y9'\n",
    " \n",
    "        # attempt authentication\n",
    "        try:\n",
    "            # create OAuthHandler object\n",
    "            self.auth = OAuthHandler(consumer_key, consumer_secret)\n",
    "            # set access token and secret\n",
    "            self.auth.set_access_token(access_token, access_token_secret)\n",
    "            # create tweepy API object to fetch tweets\n",
    "            self.api = tweepy.API(self.auth)\n",
    "        except:\n",
    "            print(\"Error: Authentication Failed\")\n",
    " \n",
    "    def clean_tweet(self, tweet):\n",
    "        return ' '.join(re.sub(\"(@[A-Za-z0-9]+)|([^0-9A-Za-z \\t])|(\\w+:\\/\\/\\S+)\", \" \", tweet).split())\n",
    " \n",
    "    def get_tweet_sentiment(self, tweet):\n",
    "        # create TextBlob object of passed tweet text\n",
    "        analysis = TextBlob(self.clean_tweet(tweet))\n",
    "        # set sentiment\n",
    "        if analysis.sentiment.polarity > 0:\n",
    "            return 'positive'\n",
    "        elif analysis.sentiment.polarity == 0:\n",
    "            return 'neutral'\n",
    "        else:\n",
    "            return 'negative'\n",
    " \n",
    "    def get_tweets(self, query, count = 10):\n",
    "        '''\n",
    "        Main function to fetch tweets and parse them.\n",
    "        '''\n",
    "        # empty list to store parsed tweets\n",
    "        tweets = []\n",
    " \n",
    "        try:\n",
    "            # call twitter api to fetch tweets\n",
    "            fetched_tweets = self.api.search(q = query, count = count)\n",
    " \n",
    "            # parsing tweets one by one\n",
    "            for tweet in fetched_tweets:\n",
    "                # empty dictionary to store required params of a tweet\n",
    "                parsed_tweet = {}\n",
    " \n",
    "                # saving text of tweet\n",
    "                parsed_tweet['text'] = tweet.text\n",
    "                # saving sentiment of tweet\n",
    "                parsed_tweet['sentiment'] = self.get_tweet_sentiment(tweet.text)\n",
    " \n",
    "                # appending parsed tweet to tweets list\n",
    "                if tweet.retweet_count > 0:\n",
    "                    # if tweet has retweets, ensure that it is appended only once\n",
    "                    if parsed_tweet not in tweets:\n",
    "                        tweets.append(parsed_tweet)\n",
    "                else:\n",
    "                    tweets.append(parsed_tweet)\n",
    " \n",
    "            # return parsed tweets\n",
    "            return tweets\n",
    " \n",
    "        except tweepy.TweepError as e:\n",
    "            # print error (if any)\n",
    "            print(\"Error : \" + str(e))"
   ]
  },
  {
   "cell_type": "code",
   "execution_count": 4,
   "metadata": {
    "collapsed": true
   },
   "outputs": [],
   "source": [
    "# Main function\n",
    "def main():\n",
    "    # creating object of TwitterClient Class\n",
    "    api = TwitterClient()\n",
    "    # calling function to get tweets\n",
    "    query = input('Enter the stock name listed in BSE or NSE : ')\n",
    "    epoch = int(input('Enter the number of tweets to be taken : '))\n",
    "    tweets = api.get_tweets(query = query, count = epoch)\n",
    " \n",
    "    # picking positive tweets from tweets\n",
    "    ptweets = [tweet for tweet in tweets if tweet['sentiment'] == 'positive']\n",
    "    # percentage of positive tweets\n",
    "    print(\"Positive tweets percentage: {} %\".format(100*len(ptweets)/len(tweets)))\n",
    "    # picking negative tweets from tweets\n",
    "    ntweets = [tweet for tweet in tweets if tweet['sentiment'] == 'negative']\n",
    "    # percentage of negative tweets\n",
    "    print(\"Negative tweets percentage: {} %\".format(100*len(ntweets)/len(tweets)))\n",
    "    # percentage of neutral tweets\n",
    "    # print(\"Neutral tweets percentage: {} %\".format(100*len(list(set(tweets) - set(ntweets) - set(ptweets)))/len(tweets)))\n",
    "    netweets = [tweet for tweet in tweets if tweet['sentiment'] == 'neutral']\n",
    "    print(\"Neutral tweets percentage: {} %\".format(100*len(netweets)/len(tweets))) \n",
    "\n",
    "    # printing first 5 positive tweets\n",
    "    print(\"\\n\\nPositive tweets:\")\n",
    "    for tweet in ptweets[:10]:\n",
    "        print(tweet['text'])\n",
    " \n",
    "    # printing first 5 negative tweets\n",
    "    print(\"\\n\\nNegative tweets:\")\n",
    "    for tweet in ntweets[:10]:\n",
    "        print(tweet['text'])\n",
    " "
   ]
  },
  {
   "cell_type": "code",
   "execution_count": 5,
   "metadata": {},
   "outputs": [
    {
     "name": "stdout",
     "output_type": "stream",
     "text": [
      "Enter the stock name listed in BSE or NSE : Rain Industries\n",
      "Enter the number of tweets to be taken : 500\n",
      "Positive tweets percentage: 52.87356321839081 %\n",
      "Negative tweets percentage: 3.4482758620689653 %\n",
      "Neutral tweets percentage: 43.67816091954023 %\n",
      "\n",
      "\n",
      "Positive tweets:\n",
      "@JAugastine Your suggestions rain industries and graphite india really helped. Thanks. Keep sharing valuable inputs.\n",
      "Another good article on #RainInd \n",
      "https://t.co/Pa2Tq2u6mp\n",
      "Track Aluminum prices here https://t.co/J5yvM8Laww\n",
      "RT @Arvind2k: Rain Industries: Good results confirm strong tailwinds for carbon products in metal industry.\n",
      "currently trading at a multiple…\n",
      "Rain Industries: Good results confirm strong tailwinds for carbon products in metal industry.\n",
      "currently trading at… https://t.co/CSdo57SXYB\n",
      "Strong numbers by Rain Industries\n",
      "@porinju Would anyone share their thoughts on Rain Industries. Worth getting in now for a 3 year view?? \n",
      "I am quite… https://t.co/9OSHOc74Wk\n",
      "RT @GoldieTuteja: Rain Industries has changed the life of many. Even at 340 it offers tremendous value for investors. Keep an 👀 @MohnishPab…\n",
      "RT @Arvind2k: Rain Industries will have a much bigger party over the next 6-9 months...better than Tirumalai Chemicals.. 😄🤗🤔 https://t.co/9…\n",
      "Rain Industries will have a much bigger party over the next 6-9 months...better than Tirumalai Chemicals.. 😄🤗🤔 https://t.co/9v6BhvaIsl\n",
      "Rain Industries: Upgrades after Q3 results:\n",
      "Motilal Oswal: New Target price: 492\n",
      "IDBI Capital:    New Target price: 418\n",
      "\n",
      "\n",
      "Negative tweets:\n",
      "Good Decision this year: Holding Rain Industries: Rs 308  profit per share.\n",
      "Worst decision this year: Buying Ugar s… https://t.co/RhAKvJJ7oU\n",
      "Rain industries continue to rain gold...\n",
      "Still lot of steam left for seeing heavy rains in coming days as well ;) https://t.co/aIBXbHk5S4\n",
      "@rahulkanwal @AamAadmiParty @drharshvardhan Artificial rain can neutralize pollution.Pollution reagents viz Air tra… https://t.co/e2JreeJEml\n"
     ]
    }
   ],
   "source": [
    "# Calling Main Function\n",
    "if __name__ == \"__main__\":\n",
    "    # calling main function\n",
    "    main()"
   ]
  }
 ],
 "metadata": {
  "kernelspec": {
   "display_name": "Python 3",
   "language": "python",
   "name": "python3"
  },
  "language_info": {
   "codemirror_mode": {
    "name": "ipython",
    "version": 3
   },
   "file_extension": ".py",
   "mimetype": "text/x-python",
   "name": "python",
   "nbconvert_exporter": "python",
   "pygments_lexer": "ipython3",
   "version": "3.5.4"
  }
 },
 "nbformat": 4,
 "nbformat_minor": 2
}
