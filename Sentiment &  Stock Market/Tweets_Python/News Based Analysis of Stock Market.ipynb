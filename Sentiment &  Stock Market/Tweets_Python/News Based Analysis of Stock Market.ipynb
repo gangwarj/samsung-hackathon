{
 "cells": [
  {
   "cell_type": "code",
   "execution_count": 8,
   "metadata": {},
   "outputs": [],
   "source": [
    "# Imports\n",
    "import re\n",
    "import tweepy\n",
    "from tweepy import OAuthHandler\n",
    "from textblob import TextBlob\n",
    "from alpha_vantage.timeseries import TimeSeries\n",
    "import matplotlib.pyplot as plt\n",
    "import sys\n",
    "import pandas as pd\n",
    "from dateutil import parser\n",
    "from datetime import datetime, timedelta\n",
    "import requests"
   ]
  },
  {
   "cell_type": "code",
   "execution_count": 40,
   "metadata": {},
   "outputs": [],
   "source": [
    "api_key = \"e8498dada182423a9da584e92c79e91b\"\n",
    "source = \"bloomberg\"\n",
    "url2 = \"https://newsapi.org/v1/articles?source=bloomberg&apiKey=e8498dada182423a9da584e92c79e91b\"\n",
    "url3 = \"https://newsapi.org/v1/articles?source=cnbc&apiKey=e8498dada182423a9da584e92c79e91b\"\n",
    "url4 = \"https://newsapi.org/v1/articles?source=cnn&apiKey=e8498dada182423a9da584e92c79e91b\"\n",
    "url5 = \"https://newsapi.org/v1/articles?source=cnn&apiKey=e8498dada182423a9da584e92c79e91b\"\n",
    "r = requests.get(url = url2)\n",
    "r1 = requests.get(url = url3)\n",
    "r2 = requests.get(url = url4)\n",
    "r3 = requests.get(url = url5)"
   ]
  },
  {
   "cell_type": "code",
   "execution_count": 41,
   "metadata": {},
   "outputs": [],
   "source": [
    "data = r.json()\n",
    "data2 = r1.json()\n",
    "data3 = r2.json()\n",
    "data4 = r3.json()"
   ]
  },
  {
   "cell_type": "code",
   "execution_count": 21,
   "metadata": {
    "collapsed": true
   },
   "outputs": [],
   "source": [
    "import json\n",
    "from pprint import pprint"
   ]
  },
  {
   "cell_type": "code",
   "execution_count": 44,
   "metadata": {},
   "outputs": [],
   "source": [
    "my_list = []\n",
    "for i in range(len(data[\"articles\"])):\n",
    "    my_list.append(data[\"articles\"][i][\"title\"])\n",
    "    \n",
    "for i in range(len(data2[\"articles\"])):\n",
    "    my_list.append(data[\"articles\"][i][\"title\"])\n",
    "    \n",
    "for i in range(len(data3[\"articles\"])):\n",
    "    my_list.append(data[\"articles\"][i][\"title\"])\n",
    "    \n",
    "for i in range(len(data4[\"articles\"])):\n",
    "    my_list.append(data[\"articles\"][i][\"title\"])"
   ]
  },
  {
   "cell_type": "code",
   "execution_count": 47,
   "metadata": {},
   "outputs": [
    {
     "data": {
      "text/plain": [
       "['Trump Says He Stands With Intel Agencies on Russia Meddling',\n",
       " 'U.S. Is Said to Suggest Ways AT&T Could Win Time Warner Approval',\n",
       " 'Moore Has Put Republican Leaders in a Bind',\n",
       " 'Emirates Doubles Down on Luxury With Upgraded First-Class Cabins',\n",
       " \"Japan's Abe Meets Taiwanese Lawmaker Hours After Xi Warning\",\n",
       " 'Trump Offers to Broker Deal to Resolve South China Sea Dispute',\n",
       " 'The Brothers Who Bought South Africa',\n",
       " 'I Dined With Alwaleed in the Desert Days Before His Arrest',\n",
       " 'Want to Stay Safe While Traveling? Wear a Rolex',\n",
       " 'Hamptons Homebuyers Have Already Figured Out How to Game the Tax Plan',\n",
       " 'Trump Says He Stands With Intel Agencies on Russia Meddling',\n",
       " 'U.S. Is Said to Suggest Ways AT&T Could Win Time Warner Approval',\n",
       " 'Moore Has Put Republican Leaders in a Bind',\n",
       " 'Emirates Doubles Down on Luxury With Upgraded First-Class Cabins',\n",
       " \"Japan's Abe Meets Taiwanese Lawmaker Hours After Xi Warning\",\n",
       " 'Trump Offers to Broker Deal to Resolve South China Sea Dispute',\n",
       " 'The Brothers Who Bought South Africa',\n",
       " 'I Dined With Alwaleed in the Desert Days Before His Arrest',\n",
       " 'Want to Stay Safe While Traveling? Wear a Rolex',\n",
       " 'Hamptons Homebuyers Have Already Figured Out How to Game the Tax Plan',\n",
       " 'Trump Says He Stands With Intel Agencies on Russia Meddling',\n",
       " 'U.S. Is Said to Suggest Ways AT&T Could Win Time Warner Approval',\n",
       " 'Moore Has Put Republican Leaders in a Bind',\n",
       " 'Emirates Doubles Down on Luxury With Upgraded First-Class Cabins',\n",
       " \"Japan's Abe Meets Taiwanese Lawmaker Hours After Xi Warning\",\n",
       " 'Trump Offers to Broker Deal to Resolve South China Sea Dispute',\n",
       " 'The Brothers Who Bought South Africa',\n",
       " 'I Dined With Alwaleed in the Desert Days Before His Arrest',\n",
       " 'Want to Stay Safe While Traveling? Wear a Rolex',\n",
       " 'Hamptons Homebuyers Have Already Figured Out How to Game the Tax Plan',\n",
       " 'Trump Says He Stands With Intel Agencies on Russia Meddling',\n",
       " 'U.S. Is Said to Suggest Ways AT&T Could Win Time Warner Approval',\n",
       " 'Moore Has Put Republican Leaders in a Bind',\n",
       " 'Emirates Doubles Down on Luxury With Upgraded First-Class Cabins',\n",
       " \"Japan's Abe Meets Taiwanese Lawmaker Hours After Xi Warning\",\n",
       " 'Trump Offers to Broker Deal to Resolve South China Sea Dispute',\n",
       " 'The Brothers Who Bought South Africa',\n",
       " 'I Dined With Alwaleed in the Desert Days Before His Arrest',\n",
       " 'Want to Stay Safe While Traveling? Wear a Rolex',\n",
       " 'Hamptons Homebuyers Have Already Figured Out How to Game the Tax Plan']"
      ]
     },
     "execution_count": 47,
     "metadata": {},
     "output_type": "execute_result"
    }
   ],
   "source": [
    "my_list"
   ]
  },
  {
   "cell_type": "code",
   "execution_count": null,
   "metadata": {
    "collapsed": true
   },
   "outputs": [],
   "source": []
  },
  {
   "cell_type": "code",
   "execution_count": null,
   "metadata": {
    "collapsed": true
   },
   "outputs": [],
   "source": []
  }
 ],
 "metadata": {
  "kernelspec": {
   "display_name": "Python 3",
   "language": "python",
   "name": "python3"
  },
  "language_info": {
   "codemirror_mode": {
    "name": "ipython",
    "version": 3
   },
   "file_extension": ".py",
   "mimetype": "text/x-python",
   "name": "python",
   "nbconvert_exporter": "python",
   "pygments_lexer": "ipython3",
   "version": "3.6.1"
  }
 },
 "nbformat": 4,
 "nbformat_minor": 2
}
